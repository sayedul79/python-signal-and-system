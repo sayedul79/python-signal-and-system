{
 "cells": [
  {
   "cell_type": "markdown",
   "metadata": {},
   "source": [
    "### Import library"
   ]
  },
  {
   "cell_type": "code",
   "execution_count": 1,
   "metadata": {},
   "outputs": [],
   "source": [
    "import numpy as np\n",
    "from scipy import signal\n",
    "import matplotlib.pyplot as plt"
   ]
  },
  {
   "cell_type": "markdown",
   "metadata": {},
   "source": [
    "### `TransferFunction`\n",
    "$$G(s)=\\dfrac {s^4+2s^3+12s^2+7s+6}{s^3+9s^2+12s+8}$$"
   ]
  },
  {
   "cell_type": "code",
   "execution_count": 2,
   "metadata": {},
   "outputs": [
    {
     "data": {
      "text/plain": [
       "TransferFunctionContinuous(\n",
       "array([ 1.,  2., 12.,  7.,  6.]),\n",
       "array([ 1.,  9., 13.,  8.]),\n",
       "dt: None\n",
       ")"
      ]
     },
     "execution_count": 2,
     "metadata": {},
     "output_type": "execute_result"
    }
   ],
   "source": [
    "sys=signal.TransferFunction([1,2,12,7,6],[1,9,13,8])\n",
    "sys"
   ]
  },
  {
   "cell_type": "markdown",
   "metadata": {},
   "source": [
    "### `StateSpace`"
   ]
  },
  {
   "cell_type": "code",
   "execution_count": 3,
   "metadata": {},
   "outputs": [
    {
     "data": {
      "text/plain": [
       "StateSpaceContinuous(\n",
       "array([[-3., -4.],\n",
       "       [ 1.,  0.]]),\n",
       "array([[5.],\n",
       "       [0.]]),\n",
       "array([[1., 6.]]),\n",
       "array([[0.]]),\n",
       "dt: None\n",
       ")"
      ]
     },
     "execution_count": 3,
     "metadata": {},
     "output_type": "execute_result"
    }
   ],
   "source": [
    "A=np.array([[-3., -4.],\n",
    "           [ 1.,  0.]])\n",
    "B=np.array([[5.],\n",
    "            [0.]])\n",
    "C=np.array([[1., 6.]])\n",
    "D=np.array([[0.0]])\n",
    "sys=signal.lti(A,B,C,D)\n",
    "sys"
   ]
  },
  {
   "cell_type": "markdown",
   "metadata": {},
   "source": [
    "### `ZerosPolesGain`"
   ]
  },
  {
   "cell_type": "code",
   "execution_count": 4,
   "metadata": {},
   "outputs": [
    {
     "data": {
      "text/plain": [
       "ZerosPolesGainContinuous(\n",
       "array([1, 2]),\n",
       "array([3, 4]),\n",
       "5,\n",
       "dt: None\n",
       ")"
      ]
     },
     "execution_count": 4,
     "metadata": {},
     "output_type": "execute_result"
    }
   ],
   "source": [
    "signal.ZerosPolesGain([1, 2], [3, 4], 5)"
   ]
  },
  {
   "cell_type": "markdown",
   "metadata": {},
   "source": [
    "### Convert TransferFuncton to StateSpace"
   ]
  },
  {
   "cell_type": "code",
   "execution_count": 5,
   "metadata": {},
   "outputs": [
    {
     "data": {
      "text/plain": [
       "StateSpaceContinuous(\n",
       "array([[-5., -6.],\n",
       "       [ 1.,  0.]]),\n",
       "array([[1.],\n",
       "       [0.]]),\n",
       "array([[1., 6.]]),\n",
       "array([[0.]]),\n",
       "dt: None\n",
       ")"
      ]
     },
     "execution_count": 5,
     "metadata": {},
     "output_type": "execute_result"
    }
   ],
   "source": [
    "sys=signal.TransferFunction([1,6],[1,5,6])\n",
    "ss=signal.StateSpace(sys)\n",
    "ss"
   ]
  },
  {
   "cell_type": "markdown",
   "metadata": {},
   "source": [
    "### Convert StateSpace to PolesZerosGain"
   ]
  },
  {
   "cell_type": "code",
   "execution_count": 6,
   "metadata": {},
   "outputs": [
    {
     "name": "stderr",
     "output_type": "stream",
     "text": [
      "C:\\Users\\HP-NPC\\anaconda3\\lib\\site-packages\\scipy\\signal\\filter_design.py:1625: BadCoefficients: Badly conditioned filter coefficients (numerator): the results may be meaningless\n",
      "  warnings.warn(\"Badly conditioned filter coefficients (numerator): the \"\n"
     ]
    },
    {
     "data": {
      "text/plain": [
       "ZerosPolesGainContinuous(\n",
       "array([-6.]),\n",
       "array([-3., -2.]),\n",
       "1.0000000000000018,\n",
       "dt: None\n",
       ")"
      ]
     },
     "execution_count": 6,
     "metadata": {},
     "output_type": "execute_result"
    }
   ],
   "source": [
    "zpk=signal.ZerosPolesGain(ss)\n",
    "zpk"
   ]
  },
  {
   "cell_type": "markdown",
   "metadata": {},
   "source": [
    "So the system is $\\dfrac{s+6}{(s+3)(s+2)}$"
   ]
  },
  {
   "cell_type": "markdown",
   "metadata": {},
   "source": [
    "### `signal.lti()`"
   ]
  },
  {
   "cell_type": "code",
   "execution_count": 7,
   "metadata": {},
   "outputs": [
    {
     "data": {
      "text/plain": [
       "TransferFunctionContinuous(\n",
       "array([ 1.,  2., 12.,  7.,  6.]),\n",
       "array([ 1.,  9., 13.,  8.]),\n",
       "dt: None\n",
       ")"
      ]
     },
     "execution_count": 7,
     "metadata": {},
     "output_type": "execute_result"
    }
   ],
   "source": [
    "sys=signal.lti([1,2,12,7,6],[1,9,13,8])\n",
    "sys"
   ]
  },
  {
   "cell_type": "code",
   "execution_count": 8,
   "metadata": {},
   "outputs": [
    {
     "data": {
      "text/plain": [
       "StateSpaceContinuous(\n",
       "array([[-5., -6.],\n",
       "       [ 1.,  0.]]),\n",
       "array([[1.],\n",
       "       [0.]]),\n",
       "array([[1., 6.]]),\n",
       "array([[0.]]),\n",
       "dt: None\n",
       ")"
      ]
     },
     "execution_count": 8,
     "metadata": {},
     "output_type": "execute_result"
    }
   ],
   "source": [
    "A=np.array([[-5., -6.],\n",
    "           [ 1.,  0.]])\n",
    "B=np.array([[1.],\n",
    "            [0.]])\n",
    "C=np.array([[1., 6.]])\n",
    "D=np.array([[0.0]])\n",
    "sys=signal.lti(A,B,C,D)\n",
    "sys"
   ]
  },
  {
   "cell_type": "code",
   "execution_count": 9,
   "metadata": {},
   "outputs": [
    {
     "data": {
      "text/plain": [
       "ZerosPolesGainContinuous(\n",
       "array([1, 2]),\n",
       "array([3, 4]),\n",
       "5,\n",
       "dt: None\n",
       ")"
      ]
     },
     "execution_count": 9,
     "metadata": {},
     "output_type": "execute_result"
    }
   ],
   "source": [
    "signal.lti([1, 2], [3, 4], 5)"
   ]
  },
  {
   "cell_type": "markdown",
   "metadata": {},
   "source": [
    "### Partial fraction expansion"
   ]
  },
  {
   "cell_type": "markdown",
   "metadata": {},
   "source": [
    "$$G(s)=\\dfrac {7}{s^2+5s+6}$$"
   ]
  },
  {
   "cell_type": "code",
   "execution_count": 10,
   "metadata": {},
   "outputs": [
    {
     "data": {
      "text/plain": [
       "(array([ 7., -7.]), array([-2., -3.]), array([], dtype=float64))"
      ]
     },
     "execution_count": 10,
     "metadata": {},
     "output_type": "execute_result"
    }
   ],
   "source": [
    "signal.residue([7],[1,5,6])"
   ]
  },
  {
   "cell_type": "markdown",
   "metadata": {},
   "source": [
    "$$G(s)=\\dfrac {7}{s^2+5s+6}=\\dfrac {7}{s+2}+\\dfrac {-7}{s+3}$$"
   ]
  },
  {
   "cell_type": "code",
   "execution_count": 11,
   "metadata": {},
   "outputs": [
    {
     "data": {
      "text/plain": [
       "(array([ 1., -4.,  4.]), array([ 0., -1., -3.]), array([], dtype=float64))"
      ]
     },
     "execution_count": 11,
     "metadata": {},
     "output_type": "execute_result"
    }
   ],
   "source": [
    "signal.residue([1,-4,3],[1,4,3,0])\n",
    "#distinct pole"
   ]
  },
  {
   "cell_type": "markdown",
   "metadata": {},
   "source": [
    "$$G(s)=\\dfrac {s^2-4s+3}{s^3+4s^2+3s}=\\dfrac {1}{s}+\\dfrac {-4}{s+1}+\\dfrac {4}{s+4}$$"
   ]
  },
  {
   "cell_type": "code",
   "execution_count": 12,
   "metadata": {},
   "outputs": [
    {
     "data": {
      "text/plain": [
       "(array([ 1.00000000e+00+0.j, -1.00000000e+00+0.j,  1.70974346e-13-0.j,\n",
       "        -3.00000000e+00+0.j]),\n",
       " array([-2.+0.j, -3.+0.j, -3.+0.j, -3.+0.j]),\n",
       " array([], dtype=float64))"
      ]
     },
     "execution_count": 12,
     "metadata": {},
     "output_type": "execute_result"
    }
   ],
   "source": [
    "signal.residue([1,3,3],[1,11,45,81,54])\n",
    "#repeated pole"
   ]
  },
  {
   "cell_type": "markdown",
   "metadata": {},
   "source": [
    "$$G(s)=\\dfrac {s^2+3s+3}{s^4+11s^3+45s^2+81s+54}=\\dfrac {1}{s+2}+\\dfrac {-1}{s+3}+\\dfrac {0}{(s+3)^2}+\\dfrac {-3}{(s+3)^3}$$"
   ]
  },
  {
   "cell_type": "code",
   "execution_count": 13,
   "metadata": {},
   "outputs": [
    {
     "data": {
      "text/plain": [
       "(array([-0.3 +0.j        ,  0.15-0.71666667j,  0.15+0.71666667j]),\n",
       " array([-1.+0.j, -2.+3.j, -2.-3.j]),\n",
       " array([], dtype=float64))"
      ]
     },
     "execution_count": 13,
     "metadata": {},
     "output_type": "execute_result"
    }
   ],
   "source": [
    "signal.residue([4,1],[1,5,17,13])\n",
    "#distinct complex pole"
   ]
  },
  {
   "cell_type": "markdown",
   "metadata": {},
   "source": [
    "$$\\dfrac{4s+1}{s^3+5s^2+17s+13}=\\dfrac{-0.3}{s+1}+\\dfrac{0.15-0.717j}{s+2-3j}+\\dfrac{0.15+0.717j}{s+2+3j}$$"
   ]
  },
  {
   "cell_type": "code",
   "execution_count": 14,
   "metadata": {},
   "outputs": [
    {
     "data": {
      "text/plain": [
       "(array([-0.61272259-0.05979806j, -0.61272259+0.05979806j,\n",
       "        64.22544518+0.j        ]),\n",
       " array([-0.72443101+0.73119264j, -0.72443101-0.73119264j,\n",
       "        -7.55113798+0.j        ]),\n",
       " array([ 1., -7.]))"
      ]
     },
     "execution_count": 14,
     "metadata": {},
     "output_type": "execute_result"
    }
   ],
   "source": [
    "signal.residue([1,2,12,7,6],[1,9,12,8])"
   ]
  },
  {
   "cell_type": "markdown",
   "metadata": {},
   "source": [
    "$$G(s)=\\dfrac {s^4+2s^3+12s^2+7s+6}{s^3+9s^2+12s+8}=\\dfrac{-0.613-0.0598j}{s+0.724-0.7312j}+\\dfrac{-0.613+0.0598j}{s+0.724+0.7312j}+\\dfrac{64.23}{s+7.55}+s-7$$"
   ]
  },
  {
   "cell_type": "code",
   "execution_count": null,
   "metadata": {},
   "outputs": [],
   "source": []
  }
 ],
 "metadata": {
  "kernelspec": {
   "display_name": "Python 3",
   "language": "python",
   "name": "python3"
  },
  "language_info": {
   "codemirror_mode": {
    "name": "ipython",
    "version": 3
   },
   "file_extension": ".py",
   "mimetype": "text/x-python",
   "name": "python",
   "nbconvert_exporter": "python",
   "pygments_lexer": "ipython3",
   "version": "3.8.5"
  }
 },
 "nbformat": 4,
 "nbformat_minor": 4
}
